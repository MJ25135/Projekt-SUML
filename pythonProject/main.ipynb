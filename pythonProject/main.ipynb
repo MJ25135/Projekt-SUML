{
 "cells": [
  {
   "cell_type": "code",
   "execution_count": 4,
   "metadata": {},
   "outputs": [
    {
     "name": "stdout",
     "output_type": "stream",
     "text": [
      "Requirement already satisfied: pip in /Users/maksjanas/Desktop/Studia/VII sem/Projekt-SUML/venv/lib/python3.11/site-packages (24.3.1)\r\n",
      "Requirement already satisfied: setuptools in /Users/maksjanas/Desktop/Studia/VII sem/Projekt-SUML/venv/lib/python3.11/site-packages (75.6.0)\r\n",
      "Requirement already satisfied: wheel in /Users/maksjanas/Desktop/Studia/VII sem/Projekt-SUML/venv/lib/python3.11/site-packages (0.45.1)\r\n",
      "Note: you may need to restart the kernel to use updated packages.\n",
      "Requirement already satisfied: pandas in /Users/maksjanas/Desktop/Studia/VII sem/Projekt-SUML/venv/lib/python3.11/site-packages (2.2.3)\r\n",
      "Requirement already satisfied: scikit-learn in /Users/maksjanas/Desktop/Studia/VII sem/Projekt-SUML/venv/lib/python3.11/site-packages (1.5.2)\r\n",
      "Requirement already satisfied: tpot in /Users/maksjanas/Desktop/Studia/VII sem/Projekt-SUML/venv/lib/python3.11/site-packages (0.12.2)\r\n",
      "Requirement already satisfied: matplotlib in /Users/maksjanas/Desktop/Studia/VII sem/Projekt-SUML/venv/lib/python3.11/site-packages (3.9.3)\r\n",
      "Requirement already satisfied: numpy>=1.23.2 in /Users/maksjanas/Desktop/Studia/VII sem/Projekt-SUML/venv/lib/python3.11/site-packages (from pandas) (2.1.3)\r\n",
      "Requirement already satisfied: python-dateutil>=2.8.2 in /Users/maksjanas/Desktop/Studia/VII sem/Projekt-SUML/venv/lib/python3.11/site-packages (from pandas) (2.9.0.post0)\r\n",
      "Requirement already satisfied: pytz>=2020.1 in /Users/maksjanas/Desktop/Studia/VII sem/Projekt-SUML/venv/lib/python3.11/site-packages (from pandas) (2024.2)\r\n",
      "Requirement already satisfied: tzdata>=2022.7 in /Users/maksjanas/Desktop/Studia/VII sem/Projekt-SUML/venv/lib/python3.11/site-packages (from pandas) (2024.2)\r\n",
      "Requirement already satisfied: scipy>=1.6.0 in /Users/maksjanas/Desktop/Studia/VII sem/Projekt-SUML/venv/lib/python3.11/site-packages (from scikit-learn) (1.14.1)\r\n",
      "Requirement already satisfied: joblib>=1.2.0 in /Users/maksjanas/Desktop/Studia/VII sem/Projekt-SUML/venv/lib/python3.11/site-packages (from scikit-learn) (1.4.2)\r\n",
      "Requirement already satisfied: threadpoolctl>=3.1.0 in /Users/maksjanas/Desktop/Studia/VII sem/Projekt-SUML/venv/lib/python3.11/site-packages (from scikit-learn) (3.5.0)\r\n",
      "Requirement already satisfied: deap>=1.2 in /Users/maksjanas/Desktop/Studia/VII sem/Projekt-SUML/venv/lib/python3.11/site-packages (from tpot) (1.4.1)\r\n",
      "Requirement already satisfied: update-checker>=0.16 in /Users/maksjanas/Desktop/Studia/VII sem/Projekt-SUML/venv/lib/python3.11/site-packages (from tpot) (0.18.0)\r\n",
      "Requirement already satisfied: tqdm>=4.36.1 in /Users/maksjanas/Desktop/Studia/VII sem/Projekt-SUML/venv/lib/python3.11/site-packages (from tpot) (4.67.1)\r\n",
      "Requirement already satisfied: stopit>=1.1.1 in /Users/maksjanas/Desktop/Studia/VII sem/Projekt-SUML/venv/lib/python3.11/site-packages (from tpot) (1.1.2)\r\n",
      "Requirement already satisfied: xgboost>=1.1.0 in /Users/maksjanas/Desktop/Studia/VII sem/Projekt-SUML/venv/lib/python3.11/site-packages (from tpot) (2.1.3)\r\n",
      "Requirement already satisfied: contourpy>=1.0.1 in /Users/maksjanas/Desktop/Studia/VII sem/Projekt-SUML/venv/lib/python3.11/site-packages (from matplotlib) (1.3.1)\r\n",
      "Requirement already satisfied: cycler>=0.10 in /Users/maksjanas/Desktop/Studia/VII sem/Projekt-SUML/venv/lib/python3.11/site-packages (from matplotlib) (0.12.1)\r\n",
      "Requirement already satisfied: fonttools>=4.22.0 in /Users/maksjanas/Desktop/Studia/VII sem/Projekt-SUML/venv/lib/python3.11/site-packages (from matplotlib) (4.55.0)\r\n",
      "Requirement already satisfied: kiwisolver>=1.3.1 in /Users/maksjanas/Desktop/Studia/VII sem/Projekt-SUML/venv/lib/python3.11/site-packages (from matplotlib) (1.4.7)\r\n",
      "Requirement already satisfied: packaging>=20.0 in /Users/maksjanas/Desktop/Studia/VII sem/Projekt-SUML/venv/lib/python3.11/site-packages (from matplotlib) (24.2)\r\n",
      "Requirement already satisfied: pillow>=8 in /Users/maksjanas/Desktop/Studia/VII sem/Projekt-SUML/venv/lib/python3.11/site-packages (from matplotlib) (11.0.0)\r\n",
      "Requirement already satisfied: pyparsing>=2.3.1 in /Users/maksjanas/Desktop/Studia/VII sem/Projekt-SUML/venv/lib/python3.11/site-packages (from matplotlib) (3.2.0)\r\n",
      "Requirement already satisfied: six>=1.5 in /Users/maksjanas/Desktop/Studia/VII sem/Projekt-SUML/venv/lib/python3.11/site-packages (from python-dateutil>=2.8.2->pandas) (1.16.0)\r\n",
      "Requirement already satisfied: requests>=2.3.0 in /Users/maksjanas/Desktop/Studia/VII sem/Projekt-SUML/venv/lib/python3.11/site-packages (from update-checker>=0.16->tpot) (2.32.3)\r\n",
      "Requirement already satisfied: charset-normalizer<4,>=2 in /Users/maksjanas/Desktop/Studia/VII sem/Projekt-SUML/venv/lib/python3.11/site-packages (from requests>=2.3.0->update-checker>=0.16->tpot) (3.4.0)\r\n",
      "Requirement already satisfied: idna<4,>=2.5 in /Users/maksjanas/Desktop/Studia/VII sem/Projekt-SUML/venv/lib/python3.11/site-packages (from requests>=2.3.0->update-checker>=0.16->tpot) (3.10)\r\n",
      "Requirement already satisfied: urllib3<3,>=1.21.1 in /Users/maksjanas/Desktop/Studia/VII sem/Projekt-SUML/venv/lib/python3.11/site-packages (from requests>=2.3.0->update-checker>=0.16->tpot) (2.2.3)\r\n",
      "Requirement already satisfied: certifi>=2017.4.17 in /Users/maksjanas/Desktop/Studia/VII sem/Projekt-SUML/venv/lib/python3.11/site-packages (from requests>=2.3.0->update-checker>=0.16->tpot) (2024.8.30)\r\n",
      "Note: you may need to restart the kernel to use updated packages.\n"
     ]
    }
   ],
   "source": [
    "%pip install --upgrade pip setuptools wheel\n",
    "%pip install pandas scikit-learn tpot matplotlib"
   ]
  },
  {
   "cell_type": "code",
   "execution_count": 7,
   "metadata": {},
   "outputs": [],
   "source": [
    "import pandas as pd\n",
    "from sklearn.metrics import mean_absolute_error, mean_squared_error, r2_score\n",
    "from sklearn.model_selection import train_test_split\n",
    "from tpot import TPOTRegressor\n",
    "import matplotlib.pyplot as plt\n",
    "from sklearn.metrics import mean_absolute_error, mean_squared_error, r2_score"
   ]
  },
  {
   "cell_type": "code",
   "execution_count": 8,
   "metadata": {},
   "outputs": [
    {
     "name": "stdout",
     "output_type": "stream",
     "text": [
      "<bound method NDFrame.head of     school sex  age address famsize Pstatus  Medu  Fedu      Mjob      Fjob  \\\n",
      "0       GP   F   18       U     GT3       A     4     4   at_home   teacher   \n",
      "1       GP   F   17       U     GT3       T     1     1   at_home     other   \n",
      "2       GP   F   15       U     LE3       T     1     1   at_home     other   \n",
      "3       GP   F   15       U     GT3       T     4     2    health  services   \n",
      "4       GP   F   16       U     GT3       T     3     3     other     other   \n",
      "..     ...  ..  ...     ...     ...     ...   ...   ...       ...       ...   \n",
      "390     MS   M   20       U     LE3       A     2     2  services  services   \n",
      "391     MS   M   17       U     LE3       T     3     1  services  services   \n",
      "392     MS   M   21       R     GT3       T     1     1     other     other   \n",
      "393     MS   M   18       R     LE3       T     3     2  services     other   \n",
      "394     MS   M   19       U     LE3       T     1     1     other   at_home   \n",
      "\n",
      "     ... famrel freetime  goout  Dalc  Walc health absences  G1  G2  G3  \n",
      "0    ...      4        3      4     1     1      3        6   5   6   6  \n",
      "1    ...      5        3      3     1     1      3        4   5   5   6  \n",
      "2    ...      4        3      2     2     3      3       10   7   8  10  \n",
      "3    ...      3        2      2     1     1      5        2  15  14  15  \n",
      "4    ...      4        3      2     1     2      5        4   6  10  10  \n",
      "..   ...    ...      ...    ...   ...   ...    ...      ...  ..  ..  ..  \n",
      "390  ...      5        5      4     4     5      4       11   9   9   9  \n",
      "391  ...      2        4      5     3     4      2        3  14  16  16  \n",
      "392  ...      5        5      3     3     3      3        3  10   8   7  \n",
      "393  ...      4        4      1     3     4      5        0  11  12  10  \n",
      "394  ...      3        2      3     3     3      5        5   8   9   9  \n",
      "\n",
      "[395 rows x 33 columns]>\n"
     ]
    }
   ],
   "source": [
    "df = pd.read_csv('../data/student-mat.csv')\n",
    "print(df.head)"
   ]
  },
  {
   "cell_type": "code",
   "execution_count": null,
   "metadata": {},
   "outputs": [],
   "source": [
    "columns_to_keep = ['G1', 'G2', 'G3', 'failures', 'studytime', 'age', 'absences', 'Medu', 'Fedu', 'health', 'school']\n",
    "df = df[columns_to_keep]\n"
   ]
  },
  {
   "cell_type": "code",
   "execution_count": null,
   "metadata": {},
   "outputs": [],
   "source": [
    "print(\"Remaining columns:\", df.columns)"
   ]
  },
  {
   "cell_type": "code",
   "execution_count": null,
   "metadata": {},
   "outputs": [],
   "source": [
    "df['school'] = df['school'].map({'GP': 0, 'MS': 1})"
   ]
  },
  {
   "cell_type": "code",
   "execution_count": null,
   "metadata": {},
   "outputs": [],
   "source": [
    "df = df.dropna()"
   ]
  },
  {
   "cell_type": "code",
   "execution_count": null,
   "metadata": {},
   "outputs": [],
   "source": [
    "X = df.drop('G3', axis=1)  # Features\n",
    "y = df['G3']  # Target\n"
   ]
  },
  {
   "cell_type": "code",
   "execution_count": null,
   "metadata": {},
   "outputs": [],
   "source": [
    "X_train, X_test, y_train, y_test = train_test_split(X, y, test_size=0.2, random_state=42)"
   ]
  },
  {
   "cell_type": "code",
   "execution_count": null,
   "metadata": {},
   "outputs": [],
   "source": [
    "tpot = TPOTRegressor(generations=5, population_size=50, verbosity=2, random_state=42)\n",
    "tpot.fit(X_train, y_train)"
   ]
  },
  {
   "cell_type": "code",
   "execution_count": null,
   "metadata": {},
   "outputs": [],
   "source": [
    "y_pred = tpot.predict(X_test)"
   ]
  },
  {
   "cell_type": "code",
   "execution_count": null,
   "metadata": {},
   "outputs": [],
   "source": [
    "tpot.export('tpot_best_pipeline.py')"
   ]
  },
  {
   "cell_type": "code",
   "execution_count": null,
   "metadata": {},
   "outputs": [],
   "source": [
    "predictor = tpot.fitted_pipeline_"
   ]
  },
  {
   "cell_type": "code",
   "execution_count": null,
   "metadata": {},
   "outputs": [],
   "source": [
    "# Evaluate the model\n",
    "mae = mean_absolute_error(y_test, y_pred)\n",
    "mse = mean_squared_error(y_test, y_pred)\n",
    "rmse = mean_squared_error(y_test, y_pred, squared=False)\n",
    "r2 = r2_score(y_test, y_pred)"
   ]
  },
  {
   "cell_type": "code",
   "execution_count": null,
   "metadata": {},
   "outputs": [],
   "source": [
    "print(\"\\nPerformance Metrics:\")\n",
    "print(f\"Mean Absolute Error (MAE): {mae:.4f}\")\n",
    "print(f\"Mean Squared Error (MSE): {mse:.4f}\")\n",
    "print(f\"Root Mean Squared Error (RMSE): {rmse:.4f}\")\n",
    "print(f\"R-squared (R²): {r2:.4f}\")"
   ]
  },
  {
   "cell_type": "code",
   "execution_count": null,
   "metadata": {},
   "outputs": [],
   "source": [
    "# Plot predictions\n",
    "plt.figure(figsize=(10, 6))\n",
    "plt.scatter(y_test, y_pred, alpha=0.7)\n",
    "plt.xlabel('Actual G3 Scores')\n",
    "plt.ylabel('Predicted G3 Scores')\n",
    "plt.title('Actual vs Predicted G3 Scores')\n",
    "plt.plot([y_test.min(), y_test.max()], [y_test.min(), y_test.max()], 'r--')  # Diagonal reference line\n",
    "plt.show()"
   ]
  }
 ],
 "metadata": {
  "kernelspec": {
   "display_name": "Python 3",
   "language": "python",
   "name": "python3"
  },
  "language_info": {
   "codemirror_mode": {
    "name": "ipython",
    "version": 3
   },
   "file_extension": ".py",
   "mimetype": "text/x-python",
   "name": "python",
   "nbconvert_exporter": "python",
   "pygments_lexer": "ipython3",
   "version": "3.11.9"
  }
 },
 "nbformat": 4,
 "nbformat_minor": 2
}
